{
 "cells": [
  {
   "cell_type": "markdown",
   "id": "9834aabc",
   "metadata": {},
   "source": [
    "---\n",
    "title: Taller Introducción a Python para el análisis de datos históricos\n",
    "author: Víctor Gayol\n",
    "date: 2021-07-15\n",
    "---\n",
    "\n",
    "## Introducción\n",
    "\n",
    "El taller *Introducción a Python para el análisis de datos históricos* está diseñado como una puerta de entrada al uso de un lenguaje de programación de alto nivel, como Python, para crear herramientas de análisis de datos digitales de investigación en historia, ciencias sociales y humanidades.\n",
    "\n",
    "Está dirigido a aquellas personas que no tienen experiencia alguna en el uso de lenguajes de programación.\n",
    "\n",
    "El taller comienza desde 0 con un repaso del uso de la interfaz de línea de comandos (CLI, *command-line-interface*), para después adentrarse en las nociones mínimas del funcionamiento del lenguaje de programación.\n",
    "\n",
    "Con las nociones básicas aprendidas, el taller tiene como objetivo desarrollar un par de módulos de código que sean útiles para el análisis de un texto histórico. Básicamente, se mostrará: 1) cómo extraer la frecuencia de palabras del texto, lo cual sirve como indicador de los temas que trata el documento; y 2) hacer un listado de palabras clave en contexto (KWC), lo cual es útil para saber de qué manera se utilizaron ciertos términos en relación con otros en el documento. \n",
    "\n",
    "### Requisitos previos\n",
    "\n",
    "**Línea de comandos**\n",
    "\n",
    "Usuaria/os Windows: instalar el CLI [GitBash](https://gitforwindows.org/) para homologar el uso de comandos UNIX con el resto de usuaria/os (macOS, Linux). Si ya se tiene experiencia en el manejo de [PowerShell](https://es.wikipedia.org/wiki/PowerShell), no es necesario.\n",
    "\n",
    "**Editor de texto y código**\n",
    "\n",
    "Para poder escribir archivos en texto plano y también correr módulos con fragmentos de código necesitamos un [editor de texto](https://es.wikipedia.org/wiki/Editor_de_texto) que sea a la vez [editor de código fuente](https://es.wikipedia.org/wiki/Editor_de_c%C3%B3digo_fuente). Hay muchos disponibles. Particularmente recomiendo [Atom](https://atom.io/) y [Visual Studio Code](https://code.visualstudio.com/), ambos con licencia MIT; o [Sublime Text](https://www.sublimetext.com/), que es propietario (licencia = $99.00 US), pero la versión de prueba tiene casi completa funcionalidad. Komodo Edit era una opción gratuita de [Komodo IDE](https://www.activestate.com/products/komodo-ide/), pero actualmente está muy descuidada.\n",
    "\n",
    "**Nota:** Para habilitar Atom como editor de código es necesario descargar el paquete `script`. Para ello abrir el menú `--> Packages --> Command Palet --> Toogle`, y elegir `install packages and themes`; buscar `script`e instalar.\n",
    "\n",
    "**Python**\n",
    "\n",
    "Usuaria/os Windows y macOS: pueden descargar Python directamente de [https://www.python.org/](https://www.python.org/) procurando que sea la versión 3.8 y no la última (3.9). Una buena estrategia para obtener Python es recurriendo a la distribución de [Anaconda](https://www.anaconda.com/products/individual) que permite tener, además, muchas de las librerías que se utilizan en el análisis de datos en historia y humanidades digitales. Esto evita sufrir con la instalación de `cartopy`, `scikit-learn`o `geos proj`que requerirían tener preinstalado [Homebrew](https://brew.sh/index_es).\n",
    "\n",
    "**Nota:** usuaria/os macOS. **Python 2.7** está instalado por defecto en las Mac para llevar a cabo algunas operaciones del sistema. Pero Python 2.7 ya no es utilizada para programación en general, pues el código ya no tiene mantenimiento y puede causar problemas de seguridad en los equipos. Por lo tanto, cuando se abre o se corre un programa en Python 3.x desde la CLI (Terminal), es necesario indicar la versión:\n",
    "\n",
    "```\n",
    "~$ python3\n",
    ">>>\n",
    "```\n",
    "\n",
    "**Data**\n",
    "\n",
    "Para este taller solamente revisaremos dos ejemplos de minería de texto (conteo de fecuencia y palabras clave en contexto, o KWC), a partir de un texto único. Trabajaremos con un libro del siglo XVII: el *Tratado de confirmaciones reales de encomiendas...* de Antonio de León Pinelo (1630). Para obtener los datos:\n",
    "\n",
    "* Ir al sitio del proyecto de la Escuela de Salamanca donde se encuentra el libro: [https://www.salamanca.school/es/work.html?wid=W0061](https://www.salamanca.school/es/work.html?wid=W0061)\n",
    "* En el menú de la parte superior, donde dice `exportar`, elegir `texto simple (TXT)`y descargar las dos versiones ('constituido' y 'diplomático').\n",
    "* Guardar en una carpeta de trabajo llamada `python-data` en el escritorio de la computadora.\n",
    "\n",
    "#### Ejemplo:\n",
    "\n",
    "Windows\n",
    "```\n",
    "C:\\users\\user\\escritorio\\python-data\\\n",
    "```\n",
    "\n",
    "macOS\n",
    "```\n",
    "/users/user/desktop/python-data/\n",
    "```\n",
    "\n",
    "### comprobar\n",
    "\n",
    "Una vez instalado Python 3.8.x en la computadora, abrir el CLI y escribir en el cursor lo siguiente:\n",
    "\n",
    "Windows cmd o PowerShell:\n",
    "```\n",
    "C:\\user>python --version\n",
    "```\n",
    "\n",
    "macOS o Linux\n",
    "```\n",
    "~ $ python3 --version\n",
    "```\n",
    "\n",
    "Si Python está bien instalado aparecerá por respuesta algo así como: `python 3.8.x`\n",
    "\n",
    "### Referencias\n",
    "\n",
    "Baker, James. \"Preservar tus datos de investigación\", traducido por Víctor Gayol, *The Programming Historian en español 1* (2017), https://doi.org/10.46430/phes0023.\n",
    "\n",
    "\n",
    "Dawson, Ted. \"Introducción a la línea de comandos de Windows con PowerShell\", traducido por Victor Gayol, *The Programming Historian en español 2* (2018), https://doi.org/10.46430/phes0037.\n",
    "\n",
    "Gibbs, Fred. \"Instalar módulos de Python con pip\", traducido por Víctor Gayol, *The Programming Historian en español 1* (2017), https://doi.org/10.46430/phes0012.\n",
    "\n",
    "Lutz, Mark. *Learning Python: Powerful Object-Oriented Programming*. Beijing: O'Reilly, 2013.\n",
    "\n",
    "———. *Programming Python: Powerful Object-Oriented Programming*. Beijing: O'Reilly, 2011.\n",
    "\n",
    "———. *Python Pocket Reference: Python in Your Pocket*. Beijing: O'Reilly, 2014.\n",
    "\n",
    "\n",
    "Matthes, Eric. *Python Crash Course, 2Nd Edition: A Hands-On, Project-Based Introduction To Programming*. 2da edición. San Francisco, CA: No Starch Press, 2019.\n",
    "\n",
    "Milligan, Ian  y James Baker, \"Introducción a la línea de comandos en Bash\", traducido por Víctor Gayol, *The Programming Historian en español 1* (2017), https://doi.org/10.46430/phes0013.\n",
    "\n",
    "Turkel, William J. y Adam Crymble. \"Introducción a Python e Instalación\", traducido por Víctor Gayol, *The Programming Historian en español 1* (2017), https://doi.org/10.46430/phes0016. (14 lecciones)\n"
   ]
  },
  {
   "cell_type": "code",
   "execution_count": 1,
   "id": "a524ed75",
   "metadata": {},
   "outputs": [
    {
     "name": "stdout",
     "output_type": "stream",
     "text": [
      "¡Hola mundo Python!\n"
     ]
    }
   ],
   "source": [
    "print(\"¡Hola mundo Python!\")"
   ]
  },
  {
   "cell_type": "code",
   "execution_count": 2,
   "id": "724a2166",
   "metadata": {},
   "outputs": [
    {
     "name": "stdout",
     "output_type": "stream",
     "text": [
      "¡Hola mundo Python!\n"
     ]
    }
   ],
   "source": [
    "mensaje = \"¡Hola mundo Python!\"\n",
    "print(mensaje)"
   ]
  },
  {
   "cell_type": "code",
   "execution_count": 3,
   "id": "3b436a01",
   "metadata": {},
   "outputs": [
    {
     "name": "stdout",
     "output_type": "stream",
     "text": [
      "12\n"
     ]
    }
   ],
   "source": [
    "x = 10\n",
    "y = 2\n",
    "print(x + y)"
   ]
  },
  {
   "cell_type": "code",
   "execution_count": 4,
   "id": "3efaa5fa",
   "metadata": {},
   "outputs": [
    {
     "name": "stdout",
     "output_type": "stream",
     "text": [
      "Mira, José, tienes un mensaje que dice: \n",
      "\t¡hola mundo python!\n"
     ]
    }
   ],
   "source": [
    "nombre = \"josé\"\n",
    "print(f\"Mira, {nombre.title()}, tienes un mensaje que dice: \\n\\t{mensaje.lower()}\")"
   ]
  },
  {
   "cell_type": "code",
   "execution_count": null,
   "id": "49051507",
   "metadata": {},
   "outputs": [],
   "source": []
  }
 ],
 "metadata": {
  "kernelspec": {
   "display_name": "Python 3",
   "language": "python",
   "name": "python3"
  },
  "language_info": {
   "codemirror_mode": {
    "name": "ipython",
    "version": 3
   },
   "file_extension": ".py",
   "mimetype": "text/x-python",
   "name": "python",
   "nbconvert_exporter": "python",
   "pygments_lexer": "ipython3",
   "version": "3.8.8"
  }
 },
 "nbformat": 4,
 "nbformat_minor": 5
}
