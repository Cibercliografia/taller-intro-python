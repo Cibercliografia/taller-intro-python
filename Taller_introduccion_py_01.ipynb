{
 "cells": [
  {
   "cell_type": "markdown",
   "id": "163bbc76",
   "metadata": {},
   "source": [
    "# Primera lección: ¡hola mundo!"
   ]
  },
  {
   "cell_type": "markdown",
   "id": "12f87f49",
   "metadata": {},
   "source": [
    "## Escribir un primer programa de prueba\n",
    "\n",
    "El primer programa de cómputo que deberíamos aprender a escribir en cualquier lenguaje de programación –el famoso *Hello World!* – es algo muy sencillo pero, a la vez, fundamental, ya que nos pone de frente el tipo de sintaxis con el que debemos trabajar con ese lenguaje de programación en específico.\n",
    "\n",
    "Se trata de escribir un programa para que nuestra máquina muestre –generalmente en el monitor o en algún otro periférico, como una impresora– una *cadena de caracteres* determinada. En este caso, y desde 1974, lo clásico es pedirle a la máquina que despliegue la frase \"Hello World!\"\n",
    "\n",
    "Cada lenguaje de programación tiene una sintaxis específica para hacer esto. Por ejemplo, en BASIC –un lenguaje popular en la década de 1980– la sintaxis era la siguiente:\n",
    "\n",
    "```basic\n",
    "10 PRINT \"Hello, World!\"\n",
    "20 END\n",
    "```\n",
    "\n",
    "Si queremos hacer este mismo programa en C++, nuestra sintaxis será:\n",
    "\n",
    "```C++\n",
    "#include <iostream>\n",
    "\n",
    "int main ()\n",
    "{\n",
    "    std::cout << \"Hello, world!\\n\"\n",
    "    return 0;\n",
    "}\n",
    "```\n",
    "\n",
    "Mientras que en Python echaremos mano a la función `print()`\n",
    "\n",
    "```python\n",
    "print(\"Hello World!\")\n",
    "```\n",
    "\n",
    "Pero, antes de escribir nuestro programa, vamos a preparar nuestro directorio de trabajo.\n",
    "\n",
    "### directorio de trabajo: uso de la CLI (command-line-interfaz)\n",
    "\n",
    "En el primer paso vamos a crear una carpeta donde se guardarán tanto los programas que escribamos como los datos que necesitemos. Una buena idea es crear esa carpeta en el directorio raíz de usuario o en el escritorio. Para ello desde el CLI vamos a crear una carpeta llamada `taller_python` con el comando `mkdir` (make directory = crear una nueva carpeta).\n",
    "\n",
    "Una vez creado el directorio `taller_python`, con el comando `cd` (change directory = cambiar la carpeta de trabajo) vamos a ingresar en ese nuevo directorio. Una vez dentro del nuevo directorio, el comando `ls` (list information about file(s)) permite ver lo que hay dentro de la carpeta. Dado que es nueva y aún no se han puesto subcarpetas ni archivos, el comando no regresará ninguna información. En PowerShell de Windows también se puede utilizar el comando `dir` o el comando `gci` (get children items) para dar la misma orden.\n",
    "\n",
    "Windows\n",
    "\n",
    "```powershell\n",
    "C:\\> mkdir taller_python\\\n",
    "C:\\> cd taller_python\\\n",
    "C:\\taller_python> dir\n",
    "\n",
    "```\n",
    "\n",
    "macOS\n",
    "\n",
    "```bash\n",
    "~$ mkdir taller_python/\n",
    "~$ cd taller_python/\n",
    "~/taller_python$ ls -l\n",
    "\n",
    "```\n",
    "\n",
    "\n",
    "### ingresar datos en la carpeta\n",
    "\n",
    "\n",
    "Mueve a esta carpeta la carpeta `python-data` que creaste en el escritorio y que contiene los archivos `W0061_constituted.txt` y `W0061_diplomatic.txt`. Para ello, cambia la posición del cursor de tu CLI y colócalo en el escritorio utilizando el comando `cd` de la manera que creas más conveniente. Una vez ahí, con el comando `mv` traslada la carpeta completa al directorio de trabajo siguiendo la ruta `~/taller_python`. Regresa a tu directorio de trabajo y confirma qe los archivos de la carpeta `python-data/` se movieron con el resto de la carpeta. Vuelve al directorio `taller_python/` y abre ahí tu editor de texto/código. En el caso de Atom es tan fácil como escribir: \"atom .\", es decir `atom--> espacio--> punto`\n",
    "\n",
    "```bash\n",
    "~$ cd ~/Desktop\n",
    "~Desktop$ mv python-data ~/taller_python\n",
    "~Desktop$ cd ~/taller_python\n",
    "~taller_python$ ls\n",
    "python-data\n",
    "~taller_python$ cd python-data/\n",
    "~python-data$ ls \n",
    "W0061_constituted.txt   W0061_diplomatic.txt\n",
    "~python-data$ cd ..\n",
    "~taller_python$ open -a \"sublime text\" .\n",
    "# Si estás usando Atom:\n",
    "~taller_python$ atom .\n",
    "# Si estás usando Sublime text:\n",
    "~taller_python$ open -a \"sublime text\" .\n",
    "```\n",
    "\n",
    "\n",
    "### Escribir el programa y salvar archivo-módulo python\n",
    "\n",
    "\n",
    "En el editor de texto crea un archivo nuevo llamado `hola_mundo.py` y guárdalo en el directorio de trabajo. Escribe el siguiente programa: `print(\"¡Hola mundo Python!\")` y corre el programa."
   ]
  },
  {
   "cell_type": "code",
   "execution_count": 1,
   "id": "0f19bbe7",
   "metadata": {},
   "outputs": [
    {
     "name": "stdout",
     "output_type": "stream",
     "text": [
      "¡Hola mundo Python!\n"
     ]
    }
   ],
   "source": [
    "# hola_mundo.py\n",
    "print(\"¡Hola mundo Python!\")"
   ]
  },
  {
   "cell_type": "markdown",
   "id": "65cb9665",
   "metadata": {},
   "source": [
    "### Correr el programa desde el CLI\n",
    "\n",
    "Abrir Terminal o PowerShell, ir al directorio de trabajo donde está el archivo `hola_mundo.py`. Para correr el programa sólo es necesario escribir el comando `python` y el nombre del archivo donde está el programa. El resultado, en este caso, será la impresión de la cadena de caracteres en la terminal:\n",
    "\n",
    "Windows\n",
    "\n",
    "```powershell\n",
    "C:\\taller_python> python hola_mundo.py\n",
    "¡Hola mundo Python!\n",
    "```\n",
    "\n",
    "macOS\n",
    "\n",
    "```bash\n",
    "~taller_python$ python hola_mundo.py\n",
    "¡Hola mundo Python!\n",
    "```"
   ]
  },
  {
   "cell_type": "markdown",
   "id": "ef24acf2",
   "metadata": {},
   "source": [
    "### ¿Qué pasa cuando se ejecuta el programa?\n",
    "\n",
    "Cuando ejecutas el archivo `hola_mundo.py`, la extensión `.py` le indica al editor de código o a la terminal de la computadora que ese archivo es un programa escrito en Python. El editor de código o la terminal de la computadora correran el archivo a través del intérprete de Python, que lee en el programa todas y cada una de las palabras escritas y determina qué significa cada una de ellas. Por ejemplo, cuando el intérprete encuentra la palabra `print` seguida por paréntesis, sabe que se trata de una función que ordena imprimir, así que imprimirá todo lo que se encuentre dentro de los paréntesis.\n",
    "\n",
    "El editor de código también entenderá que `print()` es el nombre de una función y la representará de un color. Asimismo, reconocerá que `\"¡Hola mundo Python!\"` no es código del programa sino una cadena de caracteres y la mostrará tal cual en la pantalla y de otro color.\n",
    "\n",
    "### Nota sobre comentarios\n",
    "\n",
    "Como has visto, en la primera línea de código hemos escrito el nombre del archivo `.py` antecedido por una almohadilla `#`. Esto es un comentario pues, al poner la almohadilla al principio de la línea le indica al intérprete que esas palabras no son parte del código.\n",
    "\n",
    "Es bueno acostumbrarse a escribir comentarios en los programas pues así sabemos qué es lo que nos proponemos hacer y lo podemos comunicar mejor a la gente que lea nuestro código.\n",
    "\n",
    "## Variables\n",
    "\n",
    "Vamos ahora a usar una variable en nuestroq programa `hola_mundo.py`. Incluimos una línea nueva al principio de nuestro archivo y modificamos la segunda línea:"
   ]
  },
  {
   "cell_type": "code",
   "execution_count": 2,
   "id": "78113317",
   "metadata": {},
   "outputs": [
    {
     "name": "stdout",
     "output_type": "stream",
     "text": [
      "¡Hola mundo Python!\n",
      "¡Vamos a aprender un poco de Python\n"
     ]
    }
   ],
   "source": [
    "# hola_mundo.py\n",
    "# Mi primera variable es mensaje. Mensaje es una variable o etiqueta \n",
    "# que contiene una cadena de caracteres que componen la frase ¡Hola \n",
    "# mundo python!\n",
    "\n",
    "mensaje = \"¡Hola mundo Python!\" \n",
    "print(mensaje)\n",
    "\n",
    "# Mi segunda variable también es mensaje, pero contiene \n",
    "# una frase distinta\n",
    "\n",
    "mensaje = \"¡Vamos a aprender un poco de Python\"\n",
    "print(mensaje)"
   ]
  },
  {
   "cell_type": "markdown",
   "id": "1d637d0f",
   "metadata": {},
   "source": [
    "## Nuestro segundo programa: nombres.py\n",
    "\n",
    "### Métodos: \n",
    "\n",
    "Escribir el programa `hola_mundo.py` nos permitió aprender varias cosas:\n",
    "\n",
    "1. lo que hace la función `print()`\n",
    "2. manejar cadenas de caracteres\n",
    "3. utilizar variables\n",
    "\n",
    "Ahora vamos a escribir otro programa para aprender a utilizar métodos. Crea un archivo llamado `nombres.py` y escribe dos o tres nombres utilizando variables y distintas cadenas de caracteres en las cuales disponemos del uso de mayúsculas y minúsculas de forma distinta. Por ejemplo:\n",
    "\n",
    "```python\n",
    "nombre = 'juanita banana'\n",
    "nombre1 = 'Juan Pérez Jolote'\n",
    "nombre2 = 'PEDRO COLORADO'\n",
    "```\n",
    "\n",
    "Como ves, el primer nombre está escrito completamente en minúsculas, el segundo con mayúsuclas en la primera letra de nombre y apellidos y el tercero todo en mayúsculas. Vamos a utilizar los métodos `title()`, `upper()` y `lower()` para modificar la apariencia de la salida de datos."
   ]
  },
  {
   "cell_type": "code",
   "execution_count": 3,
   "id": "276c617f",
   "metadata": {},
   "outputs": [
    {
     "name": "stdout",
     "output_type": "stream",
     "text": [
      "Juanita Banana\n",
      "JUAN PÉREZ JOLOTE\n",
      "pedro colorado\n",
      "Pedro Colorado\n"
     ]
    }
   ],
   "source": [
    "# nombres.py\n",
    "\n",
    "nombre = 'juanita banana'\n",
    "nombre1 = 'Juan Pérez Jolote'\n",
    "nombre2 = 'PEDRO COLORADO'\n",
    "print(nombre.title())\n",
    "print(nombre1.upper())\n",
    "print(nombre2.lower())\n",
    "print(nombre2.title())"
   ]
  },
  {
   "cell_type": "markdown",
   "id": "981f0d9b",
   "metadata": {},
   "source": [
    "Analicemos qué es lo que pasa. En este ejemplo, la variable `nombre` refiere a la cadena de caracteres `'juanita banana'` escrita en minúscula. El método `title()` aparece después de la variable `nombre` dentro de la función `print()`, separado por un punto(.). Esto hace que Python aplique a la variable el método `title()` (o poner en mayúscula la primera letra de cada palabra en la cadena de caracteres). \n",
    "\n",
    "El uso de métodos es importante para el análisis de datos. Hay ocasiones en el que debemos uniformar las cadenas de caracteres (palabras) de un texto y tenerlo todo en minúsculas para poder aplicar ciertos técnicas y herramientas de análisis y que el intérprete no piense que la cadena de caracteres `\"Navaja\"` es distinta a la cadena de caracteres `\"navaja\"`. Esto es fundamental cuando buscamos, por ejemplo, contabilizar la frecuencia con la que aparecen las palabras en el texto. No queremos que el resultado sea: `[30, 'sable', 28, 'navaja', 25, 'florete', 12, 'Navaja']`. Por ello, es importante asegurarnos que el carácter `n` y el carácter `N` sean leídos como iguales por el intérprete. Podernos asegurarnos de eso utilizando el método `.lower()`"
   ]
  },
  {
   "cell_type": "markdown",
   "id": "cb0ccc15",
   "metadata": {},
   "source": [
    "## Tercer programa: cadenas de caracteres con formato (*f-strings*)\n",
    "\n",
    "Hay veces que necesitaremos insertar distintas variables en una cadena de caracteres para componer diferentes formas de salida. Para ello recurriremos a las cadenas de caracteres con formato o *f-strings*.\n",
    "\n",
    "Vamos a crear un nuevo programa en el archivo `nombre_completo.py`. Dentro de él vamos a escribir una variable que contenga el nombre de una persona, una segunda variable que contenga los apellidos, y crearemos una cadena de caracteres con formato en la función `print()` para juntar ambas variables. Como ambas cadenas de caracteres están en minúsculas, aplicaremos el método `title()`."
   ]
  },
  {
   "cell_type": "code",
   "execution_count": 4,
   "id": "7edd18a6",
   "metadata": {},
   "outputs": [
    {
     "name": "stdout",
     "output_type": "stream",
     "text": [
      "Juan Pérez Jolote\n"
     ]
    }
   ],
   "source": [
    "# nombre_completo.py\n",
    "nombre = 'juan'\n",
    "apellido= 'pérez jolote'\n",
    "print(nombre.title(), apellido.title())"
   ]
  },
  {
   "cell_type": "markdown",
   "id": "d7816693",
   "metadata": {},
   "source": [
    "Podemos crear una tercera variable para hacernos más fácil la vida a la hora de llamar la función `print()`."
   ]
  },
  {
   "cell_type": "code",
   "execution_count": 5,
   "id": "41e007b2",
   "metadata": {},
   "outputs": [
    {
     "name": "stdout",
     "output_type": "stream",
     "text": [
      "Juan Pérez Jolote\n"
     ]
    }
   ],
   "source": [
    "# nombre_completo.py\n",
    "nombre = 'juan'\n",
    "apellido= 'pérez jolote'\n",
    "nombre_completo = f\"{nombre} {apellido}\"\n",
    "print(nombre_completo.title())"
   ]
  },
  {
   "cell_type": "markdown",
   "id": "f64f3a74",
   "metadata": {},
   "source": [
    "Ahora podemos crear un mensaje más complejo en el que insertaremos la variable con el nombre completo de la persona."
   ]
  },
  {
   "cell_type": "code",
   "execution_count": 6,
   "id": "6ce83bc3",
   "metadata": {},
   "outputs": [
    {
     "name": "stdout",
     "output_type": "stream",
     "text": [
      "¡Hola, Juan Pérez Jolote! ¿Cómo estás?\n"
     ]
    }
   ],
   "source": [
    "print(f\"¡Hola, {nombre_completo.title()}! ¿Cómo estás?\")"
   ]
  },
  {
   "cell_type": "markdown",
   "id": "f2e54a41",
   "metadata": {},
   "source": [
    "---\n",
    "\n",
    "Incluso, podemos reducir a una cuarta variable la cadena de caracteres que insertamos en la función `print()` con objeto de ahorrarnos más espacio. Además, insertaremos una línea en blanco (representada por `\\n`) y un tabulador (representado por `\\t`). "
   ]
  },
  {
   "cell_type": "code",
   "execution_count": 7,
   "id": "979c3109",
   "metadata": {},
   "outputs": [
    {
     "name": "stdout",
     "output_type": "stream",
     "text": [
      "\n",
      "\t¡Hola, Juan Pérez Jolote! ¿Cómo estás?\n"
     ]
    }
   ],
   "source": [
    "mensaje = f\"\\n\\t¡Hola, {nombre_completo.title()}! ¿Cómo estás?\"\n",
    "print(mensaje)"
   ]
  }
 ],
 "metadata": {
  "kernelspec": {
   "display_name": "Python 3",
   "language": "python",
   "name": "python3"
  },
  "language_info": {
   "codemirror_mode": {
    "name": "ipython",
    "version": 3
   },
   "file_extension": ".py",
   "mimetype": "text/x-python",
   "name": "python",
   "nbconvert_exporter": "python",
   "pygments_lexer": "ipython3",
   "version": "3.8.8"
  }
 },
 "nbformat": 4,
 "nbformat_minor": 5
}
